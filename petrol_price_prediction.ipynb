{
 "cells": [
  {
   "cell_type": "markdown",
   "metadata": {},
   "source": [
    "Importing modules"
   ]
  },
  {
   "cell_type": "code",
   "execution_count": 43,
   "metadata": {},
   "outputs": [],
   "source": [
    "import pandas as pd\n",
    "import seaborn as sb\n",
    "import matplotlib.pyplot as plt\n",
    "from sklearn.linear_model import LinearRegression"
   ]
  },
  {
   "cell_type": "markdown",
   "metadata": {},
   "source": [
    "# Data Overview"
   ]
  },
  {
   "cell_type": "code",
   "execution_count": 44,
   "metadata": {},
   "outputs": [
    {
     "data": {
      "text/html": [
       "<div>\n",
       "<style scoped>\n",
       "    .dataframe tbody tr th:only-of-type {\n",
       "        vertical-align: middle;\n",
       "    }\n",
       "\n",
       "    .dataframe tbody tr th {\n",
       "        vertical-align: top;\n",
       "    }\n",
       "\n",
       "    .dataframe thead th {\n",
       "        text-align: right;\n",
       "    }\n",
       "</style>\n",
       "<table border=\"1\" class=\"dataframe\">\n",
       "  <thead>\n",
       "    <tr style=\"text-align: right;\">\n",
       "      <th></th>\n",
       "      <th>Delhi</th>\n",
       "      <th>Kolkata</th>\n",
       "      <th>Mumbai</th>\n",
       "      <th>Chennai</th>\n",
       "    </tr>\n",
       "    <tr>\n",
       "      <th>Date</th>\n",
       "      <th></th>\n",
       "      <th></th>\n",
       "      <th></th>\n",
       "      <th></th>\n",
       "    </tr>\n",
       "  </thead>\n",
       "  <tbody>\n",
       "    <tr>\n",
       "      <th>April 19 2018</th>\n",
       "      <td>74.07</td>\n",
       "      <td>76.77</td>\n",
       "      <td>81.92</td>\n",
       "      <td>76.84</td>\n",
       "    </tr>\n",
       "    <tr>\n",
       "      <th>April 18 2018</th>\n",
       "      <td>74.02</td>\n",
       "      <td>76.73</td>\n",
       "      <td>81.87</td>\n",
       "      <td>76.79</td>\n",
       "    </tr>\n",
       "    <tr>\n",
       "      <th>April 17 2018</th>\n",
       "      <td>74.02</td>\n",
       "      <td>76.73</td>\n",
       "      <td>81.87</td>\n",
       "      <td>76.79</td>\n",
       "    </tr>\n",
       "    <tr>\n",
       "      <th>April 16 2018</th>\n",
       "      <td>74.02</td>\n",
       "      <td>76.73</td>\n",
       "      <td>81.87</td>\n",
       "      <td>76.79</td>\n",
       "    </tr>\n",
       "    <tr>\n",
       "      <th>April 15 2018</th>\n",
       "      <td>73.98</td>\n",
       "      <td>76.69</td>\n",
       "      <td>81.83</td>\n",
       "      <td>76.75</td>\n",
       "    </tr>\n",
       "  </tbody>\n",
       "</table>\n",
       "</div>"
      ],
      "text/plain": [
       "               Delhi  Kolkata  Mumbai  Chennai\n",
       "Date                                          \n",
       "April 19 2018  74.07    76.77   81.92    76.84\n",
       "April 18 2018  74.02    76.73   81.87    76.79\n",
       "April 17 2018  74.02    76.73   81.87    76.79\n",
       "April 16 2018  74.02    76.73   81.87    76.79\n",
       "April 15 2018  73.98    76.69   81.83    76.75"
      ]
     },
     "execution_count": 44,
     "metadata": {},
     "output_type": "execute_result"
    }
   ],
   "source": [
    "data1=pd.read_csv(\"petrol.csv\")\n",
    "data=data1.set_index(\"Date\")\n",
    "data.head()"
   ]
  },
  {
   "cell_type": "markdown",
   "metadata": {},
   "source": [
    "# 1Preprocessing"
   ]
  },
  {
   "cell_type": "markdown",
   "metadata": {},
   "source": [
    "###  Data Cleaning"
   ]
  },
  {
   "cell_type": "code",
   "execution_count": 45,
   "metadata": {},
   "outputs": [
    {
     "data": {
      "text/plain": [
       "Delhi      0\n",
       "Kolkata    0\n",
       "Mumbai     0\n",
       "Chennai    0\n",
       "dtype: int64"
      ]
     },
     "execution_count": 45,
     "metadata": {},
     "output_type": "execute_result"
    }
   ],
   "source": [
    "data.isna().sum()"
   ]
  },
  {
   "cell_type": "code",
   "execution_count": 46,
   "metadata": {},
   "outputs": [
    {
     "data": {
      "text/html": [
       "<div>\n",
       "<style scoped>\n",
       "    .dataframe tbody tr th:only-of-type {\n",
       "        vertical-align: middle;\n",
       "    }\n",
       "\n",
       "    .dataframe tbody tr th {\n",
       "        vertical-align: top;\n",
       "    }\n",
       "\n",
       "    .dataframe thead th {\n",
       "        text-align: right;\n",
       "    }\n",
       "</style>\n",
       "<table border=\"1\" class=\"dataframe\">\n",
       "  <thead>\n",
       "    <tr style=\"text-align: right;\">\n",
       "      <th></th>\n",
       "      <th>Delhi</th>\n",
       "      <th>Kolkata</th>\n",
       "      <th>Mumbai</th>\n",
       "      <th>Chennai</th>\n",
       "    </tr>\n",
       "  </thead>\n",
       "  <tbody>\n",
       "    <tr>\n",
       "      <th>count</th>\n",
       "      <td>374.000000</td>\n",
       "      <td>374.000000</td>\n",
       "      <td>374.000000</td>\n",
       "      <td>374.000000</td>\n",
       "    </tr>\n",
       "    <tr>\n",
       "      <th>mean</th>\n",
       "      <td>68.582299</td>\n",
       "      <td>71.781872</td>\n",
       "      <td>76.686176</td>\n",
       "      <td>70.895348</td>\n",
       "    </tr>\n",
       "    <tr>\n",
       "      <th>std</th>\n",
       "      <td>3.800444</td>\n",
       "      <td>3.420669</td>\n",
       "      <td>3.989632</td>\n",
       "      <td>4.353440</td>\n",
       "    </tr>\n",
       "    <tr>\n",
       "      <th>min</th>\n",
       "      <td>56.490000</td>\n",
       "      <td>61.350000</td>\n",
       "      <td>62.750000</td>\n",
       "      <td>56.070000</td>\n",
       "    </tr>\n",
       "    <tr>\n",
       "      <th>25%</th>\n",
       "      <td>66.282500</td>\n",
       "      <td>69.452500</td>\n",
       "      <td>75.297500</td>\n",
       "      <td>68.080000</td>\n",
       "    </tr>\n",
       "    <tr>\n",
       "      <th>50%</th>\n",
       "      <td>69.265000</td>\n",
       "      <td>72.145000</td>\n",
       "      <td>77.230000</td>\n",
       "      <td>71.780000</td>\n",
       "    </tr>\n",
       "    <tr>\n",
       "      <th>75%</th>\n",
       "      <td>71.510000</td>\n",
       "      <td>74.350000</td>\n",
       "      <td>79.620000</td>\n",
       "      <td>74.167500</td>\n",
       "    </tr>\n",
       "    <tr>\n",
       "      <th>max</th>\n",
       "      <td>74.070000</td>\n",
       "      <td>81.430000</td>\n",
       "      <td>81.920000</td>\n",
       "      <td>76.930000</td>\n",
       "    </tr>\n",
       "  </tbody>\n",
       "</table>\n",
       "</div>"
      ],
      "text/plain": [
       "            Delhi     Kolkata      Mumbai     Chennai\n",
       "count  374.000000  374.000000  374.000000  374.000000\n",
       "mean    68.582299   71.781872   76.686176   70.895348\n",
       "std      3.800444    3.420669    3.989632    4.353440\n",
       "min     56.490000   61.350000   62.750000   56.070000\n",
       "25%     66.282500   69.452500   75.297500   68.080000\n",
       "50%     69.265000   72.145000   77.230000   71.780000\n",
       "75%     71.510000   74.350000   79.620000   74.167500\n",
       "max     74.070000   81.430000   81.920000   76.930000"
      ]
     },
     "execution_count": 46,
     "metadata": {},
     "output_type": "execute_result"
    }
   ],
   "source": [
    "data.describe()"
   ]
  },
  {
   "cell_type": "code",
   "execution_count": 47,
   "metadata": {},
   "outputs": [
    {
     "data": {
      "text/plain": [
       "(374, 4)"
      ]
     },
     "execution_count": 47,
     "metadata": {},
     "output_type": "execute_result"
    }
   ],
   "source": [
    "data.shape"
   ]
  },
  {
   "cell_type": "code",
   "execution_count": 48,
   "metadata": {},
   "outputs": [
    {
     "data": {
      "text/html": [
       "<div>\n",
       "<style scoped>\n",
       "    .dataframe tbody tr th:only-of-type {\n",
       "        vertical-align: middle;\n",
       "    }\n",
       "\n",
       "    .dataframe tbody tr th {\n",
       "        vertical-align: top;\n",
       "    }\n",
       "\n",
       "    .dataframe thead th {\n",
       "        text-align: right;\n",
       "    }\n",
       "</style>\n",
       "<table border=\"1\" class=\"dataframe\">\n",
       "  <thead>\n",
       "    <tr style=\"text-align: right;\">\n",
       "      <th></th>\n",
       "      <th>Delhi</th>\n",
       "      <th>Kolkata</th>\n",
       "      <th>Mumbai</th>\n",
       "      <th>Chennai</th>\n",
       "    </tr>\n",
       "    <tr>\n",
       "      <th>Date</th>\n",
       "      <th></th>\n",
       "      <th></th>\n",
       "      <th></th>\n",
       "      <th></th>\n",
       "    </tr>\n",
       "  </thead>\n",
       "  <tbody>\n",
       "    <tr>\n",
       "      <th>April 17 2018</th>\n",
       "      <td>74.02</td>\n",
       "      <td>76.73</td>\n",
       "      <td>81.87</td>\n",
       "      <td>76.79</td>\n",
       "    </tr>\n",
       "    <tr>\n",
       "      <th>April 16 2018</th>\n",
       "      <td>74.02</td>\n",
       "      <td>76.73</td>\n",
       "      <td>81.87</td>\n",
       "      <td>76.79</td>\n",
       "    </tr>\n",
       "    <tr>\n",
       "      <th>April 11 2018</th>\n",
       "      <td>73.98</td>\n",
       "      <td>76.69</td>\n",
       "      <td>81.83</td>\n",
       "      <td>76.75</td>\n",
       "    </tr>\n",
       "    <tr>\n",
       "      <th>April 10 2018</th>\n",
       "      <td>73.98</td>\n",
       "      <td>76.69</td>\n",
       "      <td>81.83</td>\n",
       "      <td>76.75</td>\n",
       "    </tr>\n",
       "    <tr>\n",
       "      <th>April 06 2018</th>\n",
       "      <td>73.98</td>\n",
       "      <td>76.69</td>\n",
       "      <td>81.83</td>\n",
       "      <td>76.75</td>\n",
       "    </tr>\n",
       "    <tr>\n",
       "      <th>April 05 2018</th>\n",
       "      <td>73.98</td>\n",
       "      <td>76.69</td>\n",
       "      <td>81.83</td>\n",
       "      <td>76.75</td>\n",
       "    </tr>\n",
       "    <tr>\n",
       "      <th>April 03 2018</th>\n",
       "      <td>73.95</td>\n",
       "      <td>76.66</td>\n",
       "      <td>81.80</td>\n",
       "      <td>76.72</td>\n",
       "    </tr>\n",
       "    <tr>\n",
       "      <th>March 27 2018</th>\n",
       "      <td>72.90</td>\n",
       "      <td>75.63</td>\n",
       "      <td>80.77</td>\n",
       "      <td>75.61</td>\n",
       "    </tr>\n",
       "    <tr>\n",
       "      <th>March 20 2018</th>\n",
       "      <td>72.20</td>\n",
       "      <td>74.94</td>\n",
       "      <td>80.07</td>\n",
       "      <td>74.87</td>\n",
       "    </tr>\n",
       "    <tr>\n",
       "      <th>March 18 2018</th>\n",
       "      <td>72.20</td>\n",
       "      <td>74.94</td>\n",
       "      <td>80.07</td>\n",
       "      <td>74.87</td>\n",
       "    </tr>\n",
       "    <tr>\n",
       "      <th>March 13 2018</th>\n",
       "      <td>72.47</td>\n",
       "      <td>75.20</td>\n",
       "      <td>80.34</td>\n",
       "      <td>75.16</td>\n",
       "    </tr>\n",
       "    <tr>\n",
       "      <th>March 12 2018</th>\n",
       "      <td>72.45</td>\n",
       "      <td>75.18</td>\n",
       "      <td>80.32</td>\n",
       "      <td>75.14</td>\n",
       "    </tr>\n",
       "    <tr>\n",
       "      <th>March 07 2018</th>\n",
       "      <td>72.39</td>\n",
       "      <td>75.12</td>\n",
       "      <td>80.26</td>\n",
       "      <td>75.07</td>\n",
       "    </tr>\n",
       "    <tr>\n",
       "      <th>March 06 2018</th>\n",
       "      <td>72.39</td>\n",
       "      <td>75.12</td>\n",
       "      <td>80.26</td>\n",
       "      <td>75.07</td>\n",
       "    </tr>\n",
       "    <tr>\n",
       "      <th>March 04 2018</th>\n",
       "      <td>72.26</td>\n",
       "      <td>75.00</td>\n",
       "      <td>80.13</td>\n",
       "      <td>74.94</td>\n",
       "    </tr>\n",
       "    <tr>\n",
       "      <th>February 27 2018</th>\n",
       "      <td>71.51</td>\n",
       "      <td>74.26</td>\n",
       "      <td>79.39</td>\n",
       "      <td>74.15</td>\n",
       "    </tr>\n",
       "    <tr>\n",
       "      <th>February 13 2018</th>\n",
       "      <td>72.94</td>\n",
       "      <td>75.64</td>\n",
       "      <td>80.81</td>\n",
       "      <td>75.65</td>\n",
       "    </tr>\n",
       "    <tr>\n",
       "      <th>February 06 2018</th>\n",
       "      <td>73.38</td>\n",
       "      <td>76.07</td>\n",
       "      <td>81.24</td>\n",
       "      <td>76.12</td>\n",
       "    </tr>\n",
       "    <tr>\n",
       "      <th>January 30 2018</th>\n",
       "      <td>72.92</td>\n",
       "      <td>75.62</td>\n",
       "      <td>80.79</td>\n",
       "      <td>75.63</td>\n",
       "    </tr>\n",
       "    <tr>\n",
       "      <th>January 22 2018</th>\n",
       "      <td>72.23</td>\n",
       "      <td>74.94</td>\n",
       "      <td>80.10</td>\n",
       "      <td>74.91</td>\n",
       "    </tr>\n",
       "    <tr>\n",
       "      <th>January 03 2018</th>\n",
       "      <td>69.97</td>\n",
       "      <td>72.72</td>\n",
       "      <td>77.87</td>\n",
       "      <td>72.53</td>\n",
       "    </tr>\n",
       "    <tr>\n",
       "      <th>January 02 2018</th>\n",
       "      <td>69.97</td>\n",
       "      <td>72.72</td>\n",
       "      <td>77.87</td>\n",
       "      <td>72.53</td>\n",
       "    </tr>\n",
       "    <tr>\n",
       "      <th>January 01 2018</th>\n",
       "      <td>69.97</td>\n",
       "      <td>72.72</td>\n",
       "      <td>77.87</td>\n",
       "      <td>72.53</td>\n",
       "    </tr>\n",
       "    <tr>\n",
       "      <th>December 31 2017</th>\n",
       "      <td>69.97</td>\n",
       "      <td>72.72</td>\n",
       "      <td>77.87</td>\n",
       "      <td>72.53</td>\n",
       "    </tr>\n",
       "    <tr>\n",
       "      <th>December 01 2017</th>\n",
       "      <td>69.22</td>\n",
       "      <td>71.98</td>\n",
       "      <td>76.52</td>\n",
       "      <td>71.74</td>\n",
       "    </tr>\n",
       "    <tr>\n",
       "      <th>November 28 2017</th>\n",
       "      <td>69.26</td>\n",
       "      <td>72.02</td>\n",
       "      <td>76.52</td>\n",
       "      <td>71.78</td>\n",
       "    </tr>\n",
       "    <tr>\n",
       "      <th>November 12 2017</th>\n",
       "      <td>69.78</td>\n",
       "      <td>72.53</td>\n",
       "      <td>76.88</td>\n",
       "      <td>72.33</td>\n",
       "    </tr>\n",
       "    <tr>\n",
       "      <th>November 09 2017</th>\n",
       "      <td>69.85</td>\n",
       "      <td>72.60</td>\n",
       "      <td>76.95</td>\n",
       "      <td>72.40</td>\n",
       "    </tr>\n",
       "    <tr>\n",
       "      <th>November 07 2017</th>\n",
       "      <td>69.80</td>\n",
       "      <td>72.55</td>\n",
       "      <td>76.90</td>\n",
       "      <td>72.35</td>\n",
       "    </tr>\n",
       "    <tr>\n",
       "      <th>October 23 2017</th>\n",
       "      <td>68.60</td>\n",
       "      <td>71.38</td>\n",
       "      <td>75.71</td>\n",
       "      <td>71.08</td>\n",
       "    </tr>\n",
       "    <tr>\n",
       "      <th>October 17 2017</th>\n",
       "      <td>68.26</td>\n",
       "      <td>71.04</td>\n",
       "      <td>75.38</td>\n",
       "      <td>70.73</td>\n",
       "    </tr>\n",
       "    <tr>\n",
       "      <th>October 15 2017</th>\n",
       "      <td>68.33</td>\n",
       "      <td>71.11</td>\n",
       "      <td>75.45</td>\n",
       "      <td>70.80</td>\n",
       "    </tr>\n",
       "    <tr>\n",
       "      <th>October 09 2017</th>\n",
       "      <td>68.45</td>\n",
       "      <td>71.23</td>\n",
       "      <td>77.58</td>\n",
       "      <td>70.93</td>\n",
       "    </tr>\n",
       "    <tr>\n",
       "      <th>October 04 2017</th>\n",
       "      <td>68.38</td>\n",
       "      <td>71.16</td>\n",
       "      <td>77.51</td>\n",
       "      <td>70.85</td>\n",
       "    </tr>\n",
       "    <tr>\n",
       "      <th>September 26 2017</th>\n",
       "      <td>70.41</td>\n",
       "      <td>73.15</td>\n",
       "      <td>79.52</td>\n",
       "      <td>72.99</td>\n",
       "    </tr>\n",
       "    <tr>\n",
       "      <th>September 25 2017</th>\n",
       "      <td>70.41</td>\n",
       "      <td>73.15</td>\n",
       "      <td>79.52</td>\n",
       "      <td>72.99</td>\n",
       "    </tr>\n",
       "    <tr>\n",
       "      <th>September 20 2017</th>\n",
       "      <td>70.52</td>\n",
       "      <td>73.26</td>\n",
       "      <td>79.63</td>\n",
       "      <td>73.10</td>\n",
       "    </tr>\n",
       "    <tr>\n",
       "      <th>September 19 2017</th>\n",
       "      <td>70.52</td>\n",
       "      <td>73.26</td>\n",
       "      <td>79.63</td>\n",
       "      <td>73.10</td>\n",
       "    </tr>\n",
       "    <tr>\n",
       "      <th>September 17 2017</th>\n",
       "      <td>70.51</td>\n",
       "      <td>73.25</td>\n",
       "      <td>79.62</td>\n",
       "      <td>73.09</td>\n",
       "    </tr>\n",
       "    <tr>\n",
       "      <th>September 14 2017</th>\n",
       "      <td>70.39</td>\n",
       "      <td>73.13</td>\n",
       "      <td>79.50</td>\n",
       "      <td>72.97</td>\n",
       "    </tr>\n",
       "    <tr>\n",
       "      <th>September 12 2017</th>\n",
       "      <td>70.38</td>\n",
       "      <td>73.12</td>\n",
       "      <td>79.48</td>\n",
       "      <td>72.95</td>\n",
       "    </tr>\n",
       "    <tr>\n",
       "      <th>September 05 2017</th>\n",
       "      <td>69.71</td>\n",
       "      <td>72.46</td>\n",
       "      <td>78.82</td>\n",
       "      <td>72.25</td>\n",
       "    </tr>\n",
       "    <tr>\n",
       "      <th>August 29 2017</th>\n",
       "      <td>69.12</td>\n",
       "      <td>71.88</td>\n",
       "      <td>78.24</td>\n",
       "      <td>71.62</td>\n",
       "    </tr>\n",
       "    <tr>\n",
       "      <th>August 20 2017</th>\n",
       "      <td>68.38</td>\n",
       "      <td>71.16</td>\n",
       "      <td>77.51</td>\n",
       "      <td>70.85</td>\n",
       "    </tr>\n",
       "    <tr>\n",
       "      <th>July 18 2017</th>\n",
       "      <td>64.21</td>\n",
       "      <td>67.62</td>\n",
       "      <td>73.54</td>\n",
       "      <td>66.67</td>\n",
       "    </tr>\n",
       "    <tr>\n",
       "      <th>July 11 2017</th>\n",
       "      <td>63.93</td>\n",
       "      <td>67.40</td>\n",
       "      <td>73.27</td>\n",
       "      <td>66.38</td>\n",
       "    </tr>\n",
       "    <tr>\n",
       "      <th>July 04 2017</th>\n",
       "      <td>63.08</td>\n",
       "      <td>66.14</td>\n",
       "      <td>74.30</td>\n",
       "      <td>65.46</td>\n",
       "    </tr>\n",
       "    <tr>\n",
       "      <th>June 01 2014</th>\n",
       "      <td>71.51</td>\n",
       "      <td>79.36</td>\n",
       "      <td>80.11</td>\n",
       "      <td>74.71</td>\n",
       "    </tr>\n",
       "  </tbody>\n",
       "</table>\n",
       "</div>"
      ],
      "text/plain": [
       "                   Delhi  Kolkata  Mumbai  Chennai\n",
       "Date                                              \n",
       "April 17 2018      74.02    76.73   81.87    76.79\n",
       "April 16 2018      74.02    76.73   81.87    76.79\n",
       "April 11 2018      73.98    76.69   81.83    76.75\n",
       "April 10 2018      73.98    76.69   81.83    76.75\n",
       "April 06 2018      73.98    76.69   81.83    76.75\n",
       "April 05 2018      73.98    76.69   81.83    76.75\n",
       "April 03 2018      73.95    76.66   81.80    76.72\n",
       "March 27 2018      72.90    75.63   80.77    75.61\n",
       "March 20 2018      72.20    74.94   80.07    74.87\n",
       "March 18 2018      72.20    74.94   80.07    74.87\n",
       "March 13 2018      72.47    75.20   80.34    75.16\n",
       "March 12 2018      72.45    75.18   80.32    75.14\n",
       "March 07 2018      72.39    75.12   80.26    75.07\n",
       "March 06 2018      72.39    75.12   80.26    75.07\n",
       "March 04 2018      72.26    75.00   80.13    74.94\n",
       "February 27 2018   71.51    74.26   79.39    74.15\n",
       "February 13 2018   72.94    75.64   80.81    75.65\n",
       "February 06 2018   73.38    76.07   81.24    76.12\n",
       "January 30 2018    72.92    75.62   80.79    75.63\n",
       "January 22 2018    72.23    74.94   80.10    74.91\n",
       "January 03 2018    69.97    72.72   77.87    72.53\n",
       "January 02 2018    69.97    72.72   77.87    72.53\n",
       "January 01 2018    69.97    72.72   77.87    72.53\n",
       "December 31 2017   69.97    72.72   77.87    72.53\n",
       "December 01 2017   69.22    71.98   76.52    71.74\n",
       "November 28 2017   69.26    72.02   76.52    71.78\n",
       "November 12 2017   69.78    72.53   76.88    72.33\n",
       "November 09 2017   69.85    72.60   76.95    72.40\n",
       "November 07 2017   69.80    72.55   76.90    72.35\n",
       "October 23 2017    68.60    71.38   75.71    71.08\n",
       "October 17 2017    68.26    71.04   75.38    70.73\n",
       "October 15 2017    68.33    71.11   75.45    70.80\n",
       "October 09 2017    68.45    71.23   77.58    70.93\n",
       "October 04 2017    68.38    71.16   77.51    70.85\n",
       "September 26 2017  70.41    73.15   79.52    72.99\n",
       "September 25 2017  70.41    73.15   79.52    72.99\n",
       "September 20 2017  70.52    73.26   79.63    73.10\n",
       "September 19 2017  70.52    73.26   79.63    73.10\n",
       "September 17 2017  70.51    73.25   79.62    73.09\n",
       "September 14 2017  70.39    73.13   79.50    72.97\n",
       "September 12 2017  70.38    73.12   79.48    72.95\n",
       "September 05 2017  69.71    72.46   78.82    72.25\n",
       "August 29 2017     69.12    71.88   78.24    71.62\n",
       "August 20 2017     68.38    71.16   77.51    70.85\n",
       "July 18 2017       64.21    67.62   73.54    66.67\n",
       "July 11 2017       63.93    67.40   73.27    66.38\n",
       "July 04 2017       63.08    66.14   74.30    65.46\n",
       "June 01 2014       71.51    79.36   80.11    74.71"
      ]
     },
     "execution_count": 48,
     "metadata": {},
     "output_type": "execute_result"
    }
   ],
   "source": [
    "data[data.duplicated()]"
   ]
  },
  {
   "cell_type": "code",
   "execution_count": 49,
   "metadata": {},
   "outputs": [
    {
     "data": {
      "text/plain": [
       "Delhi      float64\n",
       "Kolkata    float64\n",
       "Mumbai     float64\n",
       "Chennai    float64\n",
       "dtype: object"
      ]
     },
     "execution_count": 49,
     "metadata": {},
     "output_type": "execute_result"
    }
   ],
   "source": [
    "data.dtypes"
   ]
  },
  {
   "cell_type": "markdown",
   "metadata": {},
   "source": [
    "###  Handling Outliers"
   ]
  },
  {
   "cell_type": "code",
   "execution_count": 50,
   "metadata": {},
   "outputs": [
    {
     "data": {
      "image/png": "[encoded data removed]",
      "text/plain": [
       "<Figure size 432x288 with 1 Axes>"
      ]
     },
     "metadata": {
      "needs_background": "light"
     },
     "output_type": "display_data"
    },
    {
     "data": {
      "image/png": "[encoded data removed]",
      "text/plain": [
       "<Figure size 432x288 with 1 Axes>"
      ]
     },
     "metadata": {
      "needs_background": "light"
     },
     "output_type": "display_data"
    },
    {
     "data": {
      "image/png": "[encoded data removed]",
      "text/plain": [
       "<Figure size 432x288 with 1 Axes>"
      ]
     },
     "metadata": {
      "needs_background": "light"
     },
     "output_type": "display_data"
    },
    {
     "data": {
      "image/png": "[encoded data removed]",
      "text/plain": [
       "<Figure size 432x288 with 1 Axes>"
      ]
     },
     "metadata": {
      "needs_background": "light"
     },
     "output_type": "display_data"
    }
   ],
   "source": [
    "for columns in (data.dtypes[data.dtypes!='object'].index):\n",
    "    plt.figure()\n",
    "    data.boxplot([columns])"
   ]
  },
  {
   "cell_type": "code",
   "execution_count": 51,
   "metadata": {},
   "outputs": [],
   "source": [
    "unknw=data.isin(['unknown']).sum()*(100/len(data))"
   ]
  },
  {
   "cell_type": "code",
   "execution_count": 52,
   "metadata": {},
   "outputs": [
    {
     "data": {
      "text/plain": [
       "Delhi      0.0\n",
       "Kolkata    0.0\n",
       "Mumbai     0.0\n",
       "Chennai    0.0\n",
       "dtype: float64"
      ]
     },
     "execution_count": 52,
     "metadata": {},
     "output_type": "execute_result"
    }
   ],
   "source": [
    "unknw"
   ]
  },
  {
   "cell_type": "markdown",
   "metadata": {},
   "source": [
    "# 2 EDA"
   ]
  },
  {
   "cell_type": "code",
   "execution_count": 53,
   "metadata": {},
   "outputs": [
    {
     "data": {
      "text/plain": [
       "Delhi      68.582299\n",
       "Kolkata    71.781872\n",
       "Mumbai     76.686176\n",
       "Chennai    70.895348\n",
       "dtype: float64"
      ]
     },
     "execution_count": 53,
     "metadata": {},
     "output_type": "execute_result"
    }
   ],
   "source": [
    "\n",
    "data_mean=data.mean()\n",
    "data_mean\n"
   ]
  },
  {
   "cell_type": "code",
   "execution_count": 54,
   "metadata": {},
   "outputs": [
    {
     "data": {
      "text/plain": [
       "array([[<AxesSubplot:title={'center':'Delhi'}>,\n",
       "        <AxesSubplot:title={'center':'Kolkata'}>],\n",
       "       [<AxesSubplot:title={'center':'Mumbai'}>,\n",
       "        <AxesSubplot:title={'center':'Chennai'}>]], dtype=object)"
      ]
     },
     "execution_count": 54,
     "metadata": {},
     "output_type": "execute_result"
    },
    {
     "data": {
      "image/png": "[encoded data removed]",
      "text/plain": [
       "<Figure size 1440x720 with 4 Axes>"
      ]
     },
     "metadata": {
      "needs_background": "light"
     },
     "output_type": "display_data"
    }
   ],
   "source": [
    "\n",
    "data.hist(figsize=(20,10))"
   ]
  },
  {
   "cell_type": "markdown",
   "metadata": {},
   "source": [
    "### Yearwise Data"
   ]
  },
  {
   "cell_type": "code",
   "execution_count": 55,
   "metadata": {},
   "outputs": [
    {
     "name": "stdout",
     "output_type": "stream",
     "text": [
      "Data From Year  2014 \n",
      "\n",
      "                 Date  Delhi  Kolkata  Mumbai  Chennai\n",
      "362  December 16 2014  61.33    68.65   68.86    63.94\n",
      "363  December 01 2014  63.33    70.73   70.95    66.05\n",
      "364  November 01 2014  64.24    71.68   71.91    67.01\n",
      "365   October 15 2014  66.65    74.21   74.46    69.59\n",
      "366   October 01 2014  67.86    75.46   75.73    70.87\n",
      "367    August 31 2014  68.51    76.14   76.41    71.55\n",
      "368    August 15 2014  70.33    78.03   78.32    73.47\n",
      "369    August 01 2014  72.51    80.30   80.60    75.78\n",
      "370      July 01 2014  73.60    81.43   81.75    76.93\n",
      "371      June 25 2014  71.56    79.42   80.16    74.76\n",
      "372      June 07 2014  71.51    79.36   80.11    74.71\n",
      "373      June 01 2014  71.51    79.36   80.11    74.71 \n",
      "\n",
      "Data From Year  2015 \n",
      "\n",
      "                  Date  Delhi  Kolkata  Mumbai  Chennai\n",
      "344   December 16 2015  59.98    65.53   67.04    60.28\n",
      "345   December 01 2015  60.48    65.93   67.55    60.80\n",
      "346   November 16 2015  61.06    66.39   68.13    61.38\n",
      "347   November 01 2015  60.70    66.11   67.77    61.02\n",
      "348  September 01 2015  61.20    66.50   68.25    61.46\n",
      "349     August 16 2015  63.20    68.10   68.24    63.49\n",
      "350     August 01 2015  64.47    69.15   69.51    64.77\n",
      "351       July 16 2015  66.90    71.57   71.97    67.29\n",
      "352       July 01 2015  66.62    74.09   74.52    69.84\n",
      "353       June 16 2015  66.93    74.42   74.78    70.12\n",
      "354        May 16 2015  66.29    73.76   74.12    69.45\n",
      "355        May 01 2015  63.16    70.44   70.84    66.08\n",
      "356      April 16 2015  59.20    66.81   66.69    61.90\n",
      "357      April 02 2015  60.00    67.48   67.53    62.75\n",
      "358      March 01 2015  60.49    67.92   68.14    63.31\n",
      "359   February 16 2015  57.31    65.29   64.81    59.85\n",
      "360   February 04 2015  56.49    64.60   63.90    58.88\n",
      "361    January 17 2015  58.91    66.64   66.36    61.38 \n",
      "\n",
      "Data From Year  2016 \n",
      "\n",
      "                  Date  Delhi  Kolkata  Mumbai  Chennai\n",
      "316   December 17 2016  68.94    71.50   75.27    68.41\n",
      "317   December 01 2016  66.10    68.81   72.46    65.58\n",
      "318   November 16 2016  65.93    68.67   72.29    65.41\n",
      "319   November 06 2016  67.62    70.24   74.00    67.13\n",
      "320    October 16 2016  66.45    69.08   72.83    65.96\n",
      "321    October 05 2016  64.72    67.72   71.12    64.24\n",
      "322    October 01 2016  64.58    67.61   71.00    64.13\n",
      "323  September 16 2016  64.21    67.42   70.64    63.76\n",
      "324  September 01 2016  63.47    66.84   68.40    63.02\n",
      "325     August 16 2016  60.09    64.18   65.04    59.65\n",
      "326     August 01 2016  61.09    64.97   65.70    60.65\n",
      "327       July 16 2016  62.51    66.03   67.11    62.00\n",
      "328       July 01 2016  64.76    67.79   69.32    64.24\n",
      "329       June 16 2016  65.65    68.50   70.23    65.09\n",
      "330       June 01 2016  65.60    68.46   70.18    65.04\n",
      "331        May 17 2016  63.02    66.44   66.12    62.47\n",
      "332        May 01 2016  62.19    65.73   66.71    61.64\n",
      "333      April 16 2016  61.13    64.90   65.63    60.58\n",
      "334      April 09 2016  61.87    65.48   66.37    61.32\n",
      "335      April 05 2016  61.87    65.48   67.96    61.32\n",
      "336      March 17 2016  59.68    63.76   65.79    59.13\n",
      "337      March 10 2016  56.61    61.35   62.75    56.07\n",
      "338      March 01 2016  56.61    62.32   62.75    56.08\n",
      "339   February 18 2016  59.63    64.64   65.73    59.10\n",
      "340   February 01 2016  59.95    64.84   66.05    59.42\n",
      "341    January 19 2016  59.99    64.87   66.09    59.45\n",
      "342    January 16 2016  59.03    64.87   66.09    59.45\n",
      "343    January 01 2016  59.35    65.12   66.40    59.77 \n",
      "\n",
      "Data From Year  2017 \n",
      "\n",
      "                 Date  Delhi  Kolkata  Mumbai  Chennai\n",
      "109  December 31 2017  69.97    72.72   77.87    72.53\n",
      "110  December 30 2017  69.94    72.69   77.84    72.49\n",
      "111  December 29 2017  69.90    72.65   77.80    72.45\n",
      "112  December 28 2017  69.81    72.56   77.71    72.36\n",
      "113  December 27 2017  69.72    72.47   77.62    72.26\n",
      "..                ...    ...      ...     ...      ...\n",
      "311       May 01 2017  68.09    70.68   77.46    71.17\n",
      "312     April 16 2017  68.07    70.66   77.45    71.16\n",
      "313     April 01 2017  66.29    68.97   72.66    69.28\n",
      "314   January 16 2017  71.14    73.66   77.46    74.43\n",
      "315   January 02 2017  70.60    73.13   76.91    70.07\n",
      "\n",
      "[207 rows x 5 columns] \n",
      "\n",
      "Data From Year  2018 \n",
      "\n",
      "                Date  Delhi  Kolkata  Mumbai  Chennai\n",
      "0      April 19 2018  74.07    76.77   81.92    76.84\n",
      "1      April 18 2018  74.02    76.73   81.87    76.79\n",
      "2      April 17 2018  74.02    76.73   81.87    76.79\n",
      "3      April 16 2018  74.02    76.73   81.87    76.79\n",
      "4      April 15 2018  73.98    76.69   81.83    76.75\n",
      "..               ...    ...      ...     ...      ...\n",
      "104  January 05 2018  69.99    72.74   77.89    72.55\n",
      "105  January 04 2018  69.97    72.72   77.87    72.53\n",
      "106  January 03 2018  69.97    72.72   77.87    72.53\n",
      "107  January 02 2018  69.97    72.72   77.87    72.53\n",
      "108  January 01 2018  69.97    72.72   77.87    72.53\n",
      "\n",
      "[109 rows x 5 columns] \n",
      "\n"
     ]
    }
   ],
   "source": [
    "\n",
    "def getyear(year):\n",
    "    return data1[data1[\"Date\"].str.contains(year)]\n",
    "for i in range(2014,2019):\n",
    "    year=str(i)\n",
    "    ds=getyear(year)\n",
    "    print(\"Data From Year \",year,\"\\n\")\n",
    "    print(ds,\"\\n\")\n",
    "    \n"
   ]
  },
  {
   "cell_type": "code",
   "execution_count": 56,
   "metadata": {},
   "outputs": [
    {
     "data": {
      "text/plain": [
       "Delhi      67.954879\n",
       "Kolkata    70.785507\n",
       "Mumbai     76.613961\n",
       "Chennai    70.456232\n",
       "dtype: float64"
      ]
     },
     "execution_count": 56,
     "metadata": {},
     "output_type": "execute_result"
    }
   ],
   "source": [
    "data_2017=getyear('2017')\n",
    "data_2017.mean()"
   ]
  },
  {
   "cell_type": "markdown",
   "metadata": {},
   "source": [
    "*.Delhi has the lowest price\n",
    "\n",
    "*Mumbai has the highest price"
   ]
  },
  {
   "cell_type": "code",
   "execution_count": 57,
   "metadata": {},
   "outputs": [
    {
     "data": {
      "text/plain": [
       "<AxesSubplot:>"
      ]
     },
     "execution_count": 57,
     "metadata": {},
     "output_type": "execute_result"
    },
    {
     "data": {
      "image/png": "[encoded data removed]",
      "text/plain": [
       "<Figure size 432x288 with 1 Axes>"
      ]
     },
     "metadata": {
      "needs_background": "light"
     },
     "output_type": "display_data"
    }
   ],
   "source": [
    "data_2017.plot()"
   ]
  },
  {
   "cell_type": "code",
   "execution_count": 58,
   "metadata": {},
   "outputs": [
    {
     "data": {
      "text/html": [
       "<div>\n",
       "<style scoped>\n",
       "    .dataframe tbody tr th:only-of-type {\n",
       "        vertical-align: middle;\n",
       "    }\n",
       "\n",
       "    .dataframe tbody tr th {\n",
       "        vertical-align: top;\n",
       "    }\n",
       "\n",
       "    .dataframe thead th {\n",
       "        text-align: right;\n",
       "    }\n",
       "</style>\n",
       "<table border=\"1\" class=\"dataframe\">\n",
       "  <thead>\n",
       "    <tr style=\"text-align: right;\">\n",
       "      <th></th>\n",
       "      <th>Delhi</th>\n",
       "      <th>Kolkata</th>\n",
       "      <th>Mumbai</th>\n",
       "      <th>Chennai</th>\n",
       "    </tr>\n",
       "  </thead>\n",
       "  <tbody>\n",
       "    <tr>\n",
       "      <th>count</th>\n",
       "      <td>207.000000</td>\n",
       "      <td>207.000000</td>\n",
       "      <td>207.000000</td>\n",
       "      <td>207.000000</td>\n",
       "    </tr>\n",
       "    <tr>\n",
       "      <th>mean</th>\n",
       "      <td>67.954879</td>\n",
       "      <td>70.785507</td>\n",
       "      <td>76.613961</td>\n",
       "      <td>70.456232</td>\n",
       "    </tr>\n",
       "    <tr>\n",
       "      <th>std</th>\n",
       "      <td>2.326304</td>\n",
       "      <td>2.221368</td>\n",
       "      <td>1.735657</td>\n",
       "      <td>2.364482</td>\n",
       "    </tr>\n",
       "    <tr>\n",
       "      <th>min</th>\n",
       "      <td>63.060000</td>\n",
       "      <td>63.330000</td>\n",
       "      <td>72.660000</td>\n",
       "      <td>65.440000</td>\n",
       "    </tr>\n",
       "    <tr>\n",
       "      <th>25%</th>\n",
       "      <td>66.285000</td>\n",
       "      <td>69.135000</td>\n",
       "      <td>75.510000</td>\n",
       "      <td>68.760000</td>\n",
       "    </tr>\n",
       "    <tr>\n",
       "      <th>50%</th>\n",
       "      <td>69.020000</td>\n",
       "      <td>71.780000</td>\n",
       "      <td>76.620000</td>\n",
       "      <td>71.510000</td>\n",
       "    </tr>\n",
       "    <tr>\n",
       "      <th>75%</th>\n",
       "      <td>69.575000</td>\n",
       "      <td>72.335000</td>\n",
       "      <td>77.565000</td>\n",
       "      <td>72.095000</td>\n",
       "    </tr>\n",
       "    <tr>\n",
       "      <th>max</th>\n",
       "      <td>71.140000</td>\n",
       "      <td>73.660000</td>\n",
       "      <td>79.990000</td>\n",
       "      <td>74.430000</td>\n",
       "    </tr>\n",
       "  </tbody>\n",
       "</table>\n",
       "</div>"
      ],
      "text/plain": [
       "            Delhi     Kolkata      Mumbai     Chennai\n",
       "count  207.000000  207.000000  207.000000  207.000000\n",
       "mean    67.954879   70.785507   76.613961   70.456232\n",
       "std      2.326304    2.221368    1.735657    2.364482\n",
       "min     63.060000   63.330000   72.660000   65.440000\n",
       "25%     66.285000   69.135000   75.510000   68.760000\n",
       "50%     69.020000   71.780000   76.620000   71.510000\n",
       "75%     69.575000   72.335000   77.565000   72.095000\n",
       "max     71.140000   73.660000   79.990000   74.430000"
      ]
     },
     "execution_count": 58,
     "metadata": {},
     "output_type": "execute_result"
    }
   ],
   "source": [
    "data_2017.describe()"
   ]
  },
  {
   "cell_type": "markdown",
   "metadata": {},
   "source": [
    "# 3 Model Building"
   ]
  },
  {
   "cell_type": "markdown",
   "metadata": {},
   "source": [
    "###  Splitting Data"
   ]
  },
  {
   "cell_type": "code",
   "execution_count": 181,
   "metadata": {},
   "outputs": [],
   "source": [
    "\n",
    "data['MA3'] = data['Mumbai'].shift(1).rolling(window=3).mean()\n",
    "data['MA9']= data['Mumbai'].shift(1).rolling(window=9).mean()"
   ]
  },
  {
   "cell_type": "code",
   "execution_count": 182,
   "metadata": {},
   "outputs": [],
   "source": [
    "datan=data.dropna()"
   ]
  },
  {
   "cell_type": "code",
   "execution_count": 183,
   "metadata": {},
   "outputs": [],
   "source": [
    "X=datan[['MA3','MA9']]\n",
    "Y=datan['Mumbai']\n",
    "training = 0.65\n",
    "t = int(training*len(datan))\n",
    " #Training dataset\n",
    "X_train = X[:t]\n",
    "Y_train = Y[:t]\n",
    "\n",
    " #Testing dataset\n",
    "X_test = X[t:]\n",
    "Y_test = Y[t:]"
   ]
  },
  {
   "cell_type": "markdown",
   "metadata": {},
   "source": [
    "### Linear Regression "
   ]
  },
  {
   "cell_type": "code",
   "execution_count": 184,
   "metadata": {},
   "outputs": [],
   "source": [
    "\n",
    "model = LinearRegression().fit(X_train,Y_train)"
   ]
  },
  {
   "cell_type": "code",
   "execution_count": 185,
   "metadata": {},
   "outputs": [
    {
     "data": {
      "image/png": "[encoded data removed]",
      "text/plain": [
       "<Figure size 1440x720 with 1 Axes>"
      ]
     },
     "metadata": {
      "needs_background": "light"
     },
     "output_type": "display_data"
    }
   ],
   "source": [
    "predicted_price = model.predict(X_test)\n",
    "predicted_prices = pd.DataFrame(predicted_price,index=Y_test.index,columns = ['Price'])\n",
    "predicted_prices.plot(figsize=(20,10))\n",
    "Y_test.plot()\n",
    "plt.legend(['Predicted Price','Actual Price'])\n",
    "plt.ylabel(\"Petrol Price:  -  Mumbai\")\n",
    "plt.show()"
   ]
  },
  {
   "cell_type": "code",
   "execution_count": 186,
   "metadata": {},
   "outputs": [
    {
     "name": "stdout",
     "output_type": "stream",
     "text": [
      "Variance score: 0.81\n"
     ]
    }
   ],
   "source": [
    "print('Variance score: %.2f' % model.score(X_test, Y_test))"
   ]
  },
  {
   "cell_type": "code",
   "execution_count": 187,
   "metadata": {},
   "outputs": [
    {
     "data": {
      "text/plain": [
       "3.2571454442074224"
      ]
     },
     "execution_count": 187,
     "metadata": {},
     "output_type": "execute_result"
    }
   ],
   "source": [
    "import math\n",
    "sq_error = sum((predicted_price - Y_test)**2)\n",
    "mean_sq_error = sq_error/len(predicted_price)\n",
    "mean_sq_error"
   ]
  },
  {
   "cell_type": "code",
   "execution_count": 188,
   "metadata": {},
   "outputs": [
    {
     "name": "stdout",
     "output_type": "stream",
     "text": [
      "MSE: 3.2571454442074232\n"
     ]
    }
   ],
   "source": [
    "from sklearn.metrics import mean_squared_error #calculating MSE\n",
    "MSE=mean_squared_error(predicted_price,Y_test)\n",
    "print(\"MSE:\",MSE)"
   ]
  }
 ],
 "metadata": {
  "kernelspec": {
   "display_name": "Python 3",
   "language": "python",
   "name": "python3"
  },
  "language_info": {
   "codemirror_mode": {
    "name": "ipython",
    "version": 3
   },
   "file_extension": ".py",
   "mimetype": "text/x-python",
   "name": "python",
   "nbconvert_exporter": "python",
   "pygments_lexer": "ipython3",
   "version": "3.8.5"
  }
 },
 "nbformat": 4,
 "nbformat_minor": 4
}
